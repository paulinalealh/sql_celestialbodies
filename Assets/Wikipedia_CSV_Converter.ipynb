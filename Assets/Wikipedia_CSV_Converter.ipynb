{
 "cells": [
  {
   "cell_type": "code",
   "execution_count": 3,
   "id": "660f9d8c",
   "metadata": {},
   "outputs": [],
   "source": [
    "import pandas as pd \n",
    "import os\n",
    "\n",
    "if not os.path.exists(r\"c:\\Users\\lealh\\Downloads\"):\n",
    "    os.makedirs(r\"c:\\Users\\lealh\\Downloads\")\n",
    "\n",
    "wiki_url1 = \"https://en.wikipedia.org/wiki/List_of_galaxies\"\n",
    "wiki_url2 = \"https://en.wikipedia.org/wiki/IAU_designated_constellations\"\n",
    "wiki_url3= \"https://en.wikipedia.org/wiki/List_of_multiplanetary_systems\"\n",
    "\n",
    "\n",
    "df = pd.read_html(wiki_url3)\n",
    "\n",
    "my_table = df[2]\n",
    "\n",
    "my_table.to_csv(r'C:\\Users\\lealh\\Git Repositories\\SQL\\sql_celestialbodies\\Assets\\star_systems.csv', index=False)\n"
   ]
  }
 ],
 "metadata": {
  "kernelspec": {
   "display_name": "Python 3",
   "language": "python",
   "name": "python3"
  },
  "language_info": {
   "codemirror_mode": {
    "name": "ipython",
    "version": 3
   },
   "file_extension": ".py",
   "mimetype": "text/x-python",
   "name": "python",
   "nbconvert_exporter": "python",
   "pygments_lexer": "ipython3",
   "version": "3.13.5"
  }
 },
 "nbformat": 4,
 "nbformat_minor": 5
}
